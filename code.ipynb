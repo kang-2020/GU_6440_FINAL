{
  "nbformat": 4,
  "nbformat_minor": 0,
  "metadata": {
    "colab": {
      "provenance": []
    },
    "kernelspec": {
      "name": "python3",
      "display_name": "Python 3"
    },
    "language_info": {
      "name": "python"
    }
  },
  "cells": [
    {
      "cell_type": "markdown",
      "source": [
        "# **1. Environment**"
      ],
      "metadata": {
        "id": "Ml5fDUDVcTAF"
      }
    },
    {
      "cell_type": "code",
      "execution_count": 2,
      "metadata": {
        "colab": {
          "base_uri": "https://localhost:8080/"
        },
        "id": "-FSAu9JKzofj",
        "outputId": "5c52c6d2-7823-4380-a53f-e0554df12558"
      },
      "outputs": [
        {
          "output_type": "stream",
          "name": "stdout",
          "text": [
            "/bin/bash: -c: line 1: syntax error near unexpected token `'/content/drive''\n",
            "/bin/bash: -c: line 1: `drive.mount('/content/drive')'\n"
          ]
        }
      ],
      "source": [
        "!drive.mount('/content/drive')\n",
        "WORKDIR = '/content/drive/MyDrive/trump_tweet_mbrl'\n",
        "!mkdir -p $WORKDIR && cd $WORKDIR"
      ]
    },
    {
      "cell_type": "code",
      "source": [
        "!pip install -q kaggle yfinance pandas pyarrow pytz \\\n",
        "               transformers sentencepiece \\\n",
        "               gymnasium stable-baselines3[extra] \\\n",
        "               finbert-embedding\n"
      ],
      "metadata": {
        "colab": {
          "base_uri": "https://localhost:8080/"
        },
        "id": "RZ1InGFUz_Jn",
        "outputId": "ac94a422-b168-4d09-d15a-e71f3ebcfedb"
      },
      "execution_count": 3,
      "outputs": [
        {
          "output_type": "stream",
          "name": "stdout",
          "text": [
            "\u001b[2K     \u001b[90m━━━━━━━━━━━━━━━━━━━━━━━━━━━━━━━━━━━━━━━━\u001b[0m \u001b[32m86.7/86.7 kB\u001b[0m \u001b[31m2.1 MB/s\u001b[0m eta \u001b[36m0:00:00\u001b[0m\n",
            "\u001b[2K   \u001b[90m━━━━━━━━━━━━━━━━━━━━━━━━━━━━━━━━━━━━━━━━\u001b[0m \u001b[32m123.8/123.8 kB\u001b[0m \u001b[31m5.4 MB/s\u001b[0m eta \u001b[36m0:00:00\u001b[0m\n",
            "\u001b[2K   \u001b[90m━━━━━━━━━━━━━━━━━━━━━━━━━━━━━━━━━━━━━━━━\u001b[0m \u001b[32m363.4/363.4 MB\u001b[0m \u001b[31m3.9 MB/s\u001b[0m eta \u001b[36m0:00:00\u001b[0m\n",
            "\u001b[2K   \u001b[90m━━━━━━━━━━━━━━━━━━━━━━━━━━━━━━━━━━━━━━━━\u001b[0m \u001b[32m13.8/13.8 MB\u001b[0m \u001b[31m62.1 MB/s\u001b[0m eta \u001b[36m0:00:00\u001b[0m\n",
            "\u001b[2K   \u001b[90m━━━━━━━━━━━━━━━━━━━━━━━━━━━━━━━━━━━━━━━━\u001b[0m \u001b[32m24.6/24.6 MB\u001b[0m \u001b[31m33.5 MB/s\u001b[0m eta \u001b[36m0:00:00\u001b[0m\n",
            "\u001b[2K   \u001b[90m━━━━━━━━━━━━━━━━━━━━━━━━━━━━━━━━━━━━━━━━\u001b[0m \u001b[32m883.7/883.7 kB\u001b[0m \u001b[31m41.2 MB/s\u001b[0m eta \u001b[36m0:00:00\u001b[0m\n",
            "\u001b[2K   \u001b[90m━━━━━━━━━━━━━━━━━━━━━━━━━━━━━━━━━━━━━━━━\u001b[0m \u001b[32m664.8/664.8 MB\u001b[0m \u001b[31m2.7 MB/s\u001b[0m eta \u001b[36m0:00:00\u001b[0m\n",
            "\u001b[2K   \u001b[90m━━━━━━━━━━━━━━━━━━━━━━━━━━━━━━━━━━━━━━━━\u001b[0m \u001b[32m211.5/211.5 MB\u001b[0m \u001b[31m5.9 MB/s\u001b[0m eta \u001b[36m0:00:00\u001b[0m\n",
            "\u001b[2K   \u001b[90m━━━━━━━━━━━━━━━━━━━━━━━━━━━━━━━━━━━━━━━━\u001b[0m \u001b[32m56.3/56.3 MB\u001b[0m \u001b[31m16.0 MB/s\u001b[0m eta \u001b[36m0:00:00\u001b[0m\n",
            "\u001b[2K   \u001b[90m━━━━━━━━━━━━━━━━━━━━━━━━━━━━━━━━━━━━━━━━\u001b[0m \u001b[32m127.9/127.9 MB\u001b[0m \u001b[31m6.9 MB/s\u001b[0m eta \u001b[36m0:00:00\u001b[0m\n",
            "\u001b[2K   \u001b[90m━━━━━━━━━━━━━━━━━━━━━━━━━━━━━━━━━━━━━━━━\u001b[0m \u001b[32m207.5/207.5 MB\u001b[0m \u001b[31m6.0 MB/s\u001b[0m eta \u001b[36m0:00:00\u001b[0m\n",
            "\u001b[2K   \u001b[90m━━━━━━━━━━━━━━━━━━━━━━━━━━━━━━━━━━━━━━━━\u001b[0m \u001b[32m21.1/21.1 MB\u001b[0m \u001b[31m87.7 MB/s\u001b[0m eta \u001b[36m0:00:00\u001b[0m\n",
            "\u001b[2K   \u001b[90m━━━━━━━━━━━━━━━━━━━━━━━━━━━━━━━━━━━━━━━━\u001b[0m \u001b[32m184.5/184.5 kB\u001b[0m \u001b[31m17.5 MB/s\u001b[0m eta \u001b[36m0:00:00\u001b[0m\n",
            "\u001b[2K   \u001b[90m━━━━━━━━━━━━━━━━━━━━━━━━━━━━━━━━━━━━━━━━\u001b[0m \u001b[32m139.9/139.9 kB\u001b[0m \u001b[31m12.3 MB/s\u001b[0m eta \u001b[36m0:00:00\u001b[0m\n",
            "\u001b[2K   \u001b[90m━━━━━━━━━━━━━━━━━━━━━━━━━━━━━━━━━━━━━━━━\u001b[0m \u001b[32m13.5/13.5 MB\u001b[0m \u001b[31m105.9 MB/s\u001b[0m eta \u001b[36m0:00:00\u001b[0m\n",
            "\u001b[2K   \u001b[90m━━━━━━━━━━━━━━━━━━━━━━━━━━━━━━━━━━━━━━━━\u001b[0m \u001b[32m84.8/84.8 kB\u001b[0m \u001b[31m7.1 MB/s\u001b[0m eta \u001b[36m0:00:00\u001b[0m\n",
            "\u001b[?25h"
          ]
        }
      ]
    },
    {
      "cell_type": "code",
      "source": [
        "!pip install -q pathlib"
      ],
      "metadata": {
        "id": "wEqygBOR1OX_"
      },
      "execution_count": 5,
      "outputs": []
    },
    {
      "cell_type": "code",
      "source": [
        "import pathlib, shutil, os, sys\n",
        "from google.colab import files\n",
        "sys.path.append(WORKDIR)\n",
        "uploaded = files.upload()\n",
        "token = pathlib.Path('kaggle.json')\n",
        "if token.exists():\n",
        "    kag_dir = pathlib.Path.home()/'.kaggle'\n",
        "    kag_dir.mkdir(exist_ok=True)\n",
        "    shutil.move(str(token), kag_dir/'kaggle.json')\n",
        "    os.chmod(kag_dir/'kaggle.json', 0o600)\n",
        "    print('✅  Kaggle API ready')\n",
        "else:\n",
        "    raise RuntimeError('Upload kaggle.json first!')\n"
      ],
      "metadata": {
        "colab": {
          "base_uri": "https://localhost:8080/",
          "height": 94
        },
        "id": "ZkZ2ss040hoV",
        "outputId": "baf0313d-1e2d-4ec4-ca79-80f011a9604d"
      },
      "execution_count": 10,
      "outputs": [
        {
          "output_type": "display_data",
          "data": {
            "text/plain": [
              "<IPython.core.display.HTML object>"
            ],
            "text/html": [
              "\n",
              "     <input type=\"file\" id=\"files-cfe6432a-7837-456c-a1ca-b0871665c7df\" name=\"files[]\" multiple disabled\n",
              "        style=\"border:none\" />\n",
              "     <output id=\"result-cfe6432a-7837-456c-a1ca-b0871665c7df\">\n",
              "      Upload widget is only available when the cell has been executed in the\n",
              "      current browser session. Please rerun this cell to enable.\n",
              "      </output>\n",
              "      <script>// Copyright 2017 Google LLC\n",
              "//\n",
              "// Licensed under the Apache License, Version 2.0 (the \"License\");\n",
              "// you may not use this file except in compliance with the License.\n",
              "// You may obtain a copy of the License at\n",
              "//\n",
              "//      http://www.apache.org/licenses/LICENSE-2.0\n",
              "//\n",
              "// Unless required by applicable law or agreed to in writing, software\n",
              "// distributed under the License is distributed on an \"AS IS\" BASIS,\n",
              "// WITHOUT WARRANTIES OR CONDITIONS OF ANY KIND, either express or implied.\n",
              "// See the License for the specific language governing permissions and\n",
              "// limitations under the License.\n",
              "\n",
              "/**\n",
              " * @fileoverview Helpers for google.colab Python module.\n",
              " */\n",
              "(function(scope) {\n",
              "function span(text, styleAttributes = {}) {\n",
              "  const element = document.createElement('span');\n",
              "  element.textContent = text;\n",
              "  for (const key of Object.keys(styleAttributes)) {\n",
              "    element.style[key] = styleAttributes[key];\n",
              "  }\n",
              "  return element;\n",
              "}\n",
              "\n",
              "// Max number of bytes which will be uploaded at a time.\n",
              "const MAX_PAYLOAD_SIZE = 100 * 1024;\n",
              "\n",
              "function _uploadFiles(inputId, outputId) {\n",
              "  const steps = uploadFilesStep(inputId, outputId);\n",
              "  const outputElement = document.getElementById(outputId);\n",
              "  // Cache steps on the outputElement to make it available for the next call\n",
              "  // to uploadFilesContinue from Python.\n",
              "  outputElement.steps = steps;\n",
              "\n",
              "  return _uploadFilesContinue(outputId);\n",
              "}\n",
              "\n",
              "// This is roughly an async generator (not supported in the browser yet),\n",
              "// where there are multiple asynchronous steps and the Python side is going\n",
              "// to poll for completion of each step.\n",
              "// This uses a Promise to block the python side on completion of each step,\n",
              "// then passes the result of the previous step as the input to the next step.\n",
              "function _uploadFilesContinue(outputId) {\n",
              "  const outputElement = document.getElementById(outputId);\n",
              "  const steps = outputElement.steps;\n",
              "\n",
              "  const next = steps.next(outputElement.lastPromiseValue);\n",
              "  return Promise.resolve(next.value.promise).then((value) => {\n",
              "    // Cache the last promise value to make it available to the next\n",
              "    // step of the generator.\n",
              "    outputElement.lastPromiseValue = value;\n",
              "    return next.value.response;\n",
              "  });\n",
              "}\n",
              "\n",
              "/**\n",
              " * Generator function which is called between each async step of the upload\n",
              " * process.\n",
              " * @param {string} inputId Element ID of the input file picker element.\n",
              " * @param {string} outputId Element ID of the output display.\n",
              " * @return {!Iterable<!Object>} Iterable of next steps.\n",
              " */\n",
              "function* uploadFilesStep(inputId, outputId) {\n",
              "  const inputElement = document.getElementById(inputId);\n",
              "  inputElement.disabled = false;\n",
              "\n",
              "  const outputElement = document.getElementById(outputId);\n",
              "  outputElement.innerHTML = '';\n",
              "\n",
              "  const pickedPromise = new Promise((resolve) => {\n",
              "    inputElement.addEventListener('change', (e) => {\n",
              "      resolve(e.target.files);\n",
              "    });\n",
              "  });\n",
              "\n",
              "  const cancel = document.createElement('button');\n",
              "  inputElement.parentElement.appendChild(cancel);\n",
              "  cancel.textContent = 'Cancel upload';\n",
              "  const cancelPromise = new Promise((resolve) => {\n",
              "    cancel.onclick = () => {\n",
              "      resolve(null);\n",
              "    };\n",
              "  });\n",
              "\n",
              "  // Wait for the user to pick the files.\n",
              "  const files = yield {\n",
              "    promise: Promise.race([pickedPromise, cancelPromise]),\n",
              "    response: {\n",
              "      action: 'starting',\n",
              "    }\n",
              "  };\n",
              "\n",
              "  cancel.remove();\n",
              "\n",
              "  // Disable the input element since further picks are not allowed.\n",
              "  inputElement.disabled = true;\n",
              "\n",
              "  if (!files) {\n",
              "    return {\n",
              "      response: {\n",
              "        action: 'complete',\n",
              "      }\n",
              "    };\n",
              "  }\n",
              "\n",
              "  for (const file of files) {\n",
              "    const li = document.createElement('li');\n",
              "    li.append(span(file.name, {fontWeight: 'bold'}));\n",
              "    li.append(span(\n",
              "        `(${file.type || 'n/a'}) - ${file.size} bytes, ` +\n",
              "        `last modified: ${\n",
              "            file.lastModifiedDate ? file.lastModifiedDate.toLocaleDateString() :\n",
              "                                    'n/a'} - `));\n",
              "    const percent = span('0% done');\n",
              "    li.appendChild(percent);\n",
              "\n",
              "    outputElement.appendChild(li);\n",
              "\n",
              "    const fileDataPromise = new Promise((resolve) => {\n",
              "      const reader = new FileReader();\n",
              "      reader.onload = (e) => {\n",
              "        resolve(e.target.result);\n",
              "      };\n",
              "      reader.readAsArrayBuffer(file);\n",
              "    });\n",
              "    // Wait for the data to be ready.\n",
              "    let fileData = yield {\n",
              "      promise: fileDataPromise,\n",
              "      response: {\n",
              "        action: 'continue',\n",
              "      }\n",
              "    };\n",
              "\n",
              "    // Use a chunked sending to avoid message size limits. See b/62115660.\n",
              "    let position = 0;\n",
              "    do {\n",
              "      const length = Math.min(fileData.byteLength - position, MAX_PAYLOAD_SIZE);\n",
              "      const chunk = new Uint8Array(fileData, position, length);\n",
              "      position += length;\n",
              "\n",
              "      const base64 = btoa(String.fromCharCode.apply(null, chunk));\n",
              "      yield {\n",
              "        response: {\n",
              "          action: 'append',\n",
              "          file: file.name,\n",
              "          data: base64,\n",
              "        },\n",
              "      };\n",
              "\n",
              "      let percentDone = fileData.byteLength === 0 ?\n",
              "          100 :\n",
              "          Math.round((position / fileData.byteLength) * 100);\n",
              "      percent.textContent = `${percentDone}% done`;\n",
              "\n",
              "    } while (position < fileData.byteLength);\n",
              "  }\n",
              "\n",
              "  // All done.\n",
              "  yield {\n",
              "    response: {\n",
              "      action: 'complete',\n",
              "    }\n",
              "  };\n",
              "}\n",
              "\n",
              "scope.google = scope.google || {};\n",
              "scope.google.colab = scope.google.colab || {};\n",
              "scope.google.colab._files = {\n",
              "  _uploadFiles,\n",
              "  _uploadFilesContinue,\n",
              "};\n",
              "})(self);\n",
              "</script> "
            ]
          },
          "metadata": {}
        },
        {
          "output_type": "stream",
          "name": "stdout",
          "text": [
            "Saving kaggle.json to kaggle.json\n",
            "✅  Kaggle API ready\n"
          ]
        }
      ]
    },
    {
      "cell_type": "code",
      "source": [
        "!pip install -U kaggle\n",
        "\n",
        "from kaggle.api.kaggle_api_extended import KaggleApi\n",
        "\n",
        "api = KaggleApi()\n",
        "api.authenticate()\n",
        "\n",
        "try:\n",
        "\n",
        "    api.dataset_download_files(\n",
        "        'muhammetakkurt/trump-2024-campaign-truthsocial-truths-tweets',\n",
        "        path='data', unzip=True)\n",
        "\n",
        "    api.dataset_download_files(\n",
        "        'gratefuldata/intraday-stock-data-1-min-sp-500-200821',\n",
        "        path='data', unzip=True)\n",
        "\n",
        "except ApiException as e:\n",
        "    print(\"❌ Kaggle API call failed:\", e)"
      ],
      "metadata": {
        "colab": {
          "base_uri": "https://localhost:8080/"
        },
        "id": "_H8I8hAC0t5e",
        "outputId": "ac774da7-e78c-4da0-9c8e-1e09e0dbda97"
      },
      "execution_count": 41,
      "outputs": [
        {
          "output_type": "stream",
          "name": "stdout",
          "text": [
            "Requirement already satisfied: kaggle in /usr/local/lib/python3.11/dist-packages (1.7.4.5)\n",
            "Requirement already satisfied: bleach in /usr/local/lib/python3.11/dist-packages (from kaggle) (6.2.0)\n",
            "Requirement already satisfied: certifi>=14.05.14 in /usr/local/lib/python3.11/dist-packages (from kaggle) (2025.4.26)\n",
            "Requirement already satisfied: charset-normalizer in /usr/local/lib/python3.11/dist-packages (from kaggle) (3.4.1)\n",
            "Requirement already satisfied: idna in /usr/local/lib/python3.11/dist-packages (from kaggle) (3.10)\n",
            "Requirement already satisfied: protobuf in /usr/local/lib/python3.11/dist-packages (from kaggle) (5.29.4)\n",
            "Requirement already satisfied: python-dateutil>=2.5.3 in /usr/local/lib/python3.11/dist-packages (from kaggle) (2.9.0.post0)\n",
            "Requirement already satisfied: python-slugify in /usr/local/lib/python3.11/dist-packages (from kaggle) (8.0.4)\n",
            "Requirement already satisfied: requests in /usr/local/lib/python3.11/dist-packages (from kaggle) (2.32.3)\n",
            "Requirement already satisfied: setuptools>=21.0.0 in /usr/local/lib/python3.11/dist-packages (from kaggle) (75.2.0)\n",
            "Requirement already satisfied: six>=1.10 in /usr/local/lib/python3.11/dist-packages (from kaggle) (1.17.0)\n",
            "Requirement already satisfied: text-unidecode in /usr/local/lib/python3.11/dist-packages (from kaggle) (1.3)\n",
            "Requirement already satisfied: tqdm in /usr/local/lib/python3.11/dist-packages (from kaggle) (4.67.1)\n",
            "Requirement already satisfied: urllib3>=1.15.1 in /usr/local/lib/python3.11/dist-packages (from kaggle) (2.4.0)\n",
            "Requirement already satisfied: webencodings in /usr/local/lib/python3.11/dist-packages (from kaggle) (0.5.1)\n",
            "Dataset URL: https://www.kaggle.com/datasets/muhammetakkurt/trump-2024-campaign-truthsocial-truths-tweets\n",
            "Dataset URL: https://www.kaggle.com/datasets/gratefuldata/intraday-stock-data-1-min-sp-500-200821\n"
          ]
        }
      ]
    },
    {
      "cell_type": "markdown",
      "source": [
        "# **2. Data Alignment**\n",
        "\n"
      ],
      "metadata": {
        "id": "PLPDYy41cceA"
      }
    },
    {
      "cell_type": "code",
      "source": [
        "!pip install -U apify-client\n",
        "\n",
        "from apify_client import ApifyClient\n",
        "import os, pandas as pd\n",
        "\n",
        "TOKEN = os.getenv(\"APIFY_TOKEN\", \"mytoken\")\n",
        "client = ApifyClient(TOKEN)\n",
        "\n",
        "run = client.actor(\"muhammetakkurtt/truth-social-scraper\").call(\n",
        "    run_input={\n",
        "        \"profileUrls\": [\"https://truthsocial.com/@realDonaldTrump\"],\n",
        "        \"fromDate\":    \"2025-01-01\",\n",
        "        \"toDate\":      \"2025-05-10\",\n",
        "        \"maxPosts\":    50000,\n",
        "        \"scrapeReactions\": False\n",
        "    }\n",
        ")\n",
        "\n",
        "dataset_id = run[\"defaultDatasetId\"]\n",
        "print(\"dataset:\", dataset_id, \"| status:\", run[\"status\"])\n",
        "\n",
        "\n",
        "csv_bytes = client.dataset(dataset_id).download_items(item_format=\"csv\")\n",
        "open(\"trump_truths_2025.csv\", \"wb\").write(csv_bytes)\n",
        "\n",
        "\n",
        "df = pd.read_csv(\"trump_truths_2025.csv\", nrows=3)\n",
        "print(\"CSV header ➜\", list(df.columns))\n",
        "\n",
        "\n",
        "time_col = next(c for c in df.columns if c.lower().startswith(\"created\"))\n",
        "df = pd.read_csv(\"trump_truths_2025.csv\",\n",
        "                 parse_dates=[time_col])\n",
        "print(f\"✅ rows: {len(df)},  span: {df[time_col].min()} → {df[time_col].max()}\")"
      ],
      "metadata": {
        "colab": {
          "base_uri": "https://localhost:8080/"
        },
        "id": "tVIaA6SF8POT",
        "outputId": "a141dcd1-9604-42f1-de7c-da6404133407"
      },
      "execution_count": 21,
      "outputs": [
        {
          "output_type": "stream",
          "name": "stdout",
          "text": [
            "Requirement already satisfied: apify-client in /usr/local/lib/python3.11/dist-packages (1.10.0)\n",
            "Requirement already satisfied: apify-shared>=1.4.1 in /usr/local/lib/python3.11/dist-packages (from apify-client) (1.4.1)\n",
            "Requirement already satisfied: httpx>=0.25 in /usr/local/lib/python3.11/dist-packages (from apify-client) (0.28.1)\n",
            "Requirement already satisfied: more-itertools>=10.0.0 in /usr/local/lib/python3.11/dist-packages (from apify-client) (10.7.0)\n",
            "Requirement already satisfied: anyio in /usr/local/lib/python3.11/dist-packages (from httpx>=0.25->apify-client) (4.9.0)\n",
            "Requirement already satisfied: certifi in /usr/local/lib/python3.11/dist-packages (from httpx>=0.25->apify-client) (2025.4.26)\n",
            "Requirement already satisfied: httpcore==1.* in /usr/local/lib/python3.11/dist-packages (from httpx>=0.25->apify-client) (1.0.9)\n",
            "Requirement already satisfied: idna in /usr/local/lib/python3.11/dist-packages (from httpx>=0.25->apify-client) (3.10)\n",
            "Requirement already satisfied: h11>=0.16 in /usr/local/lib/python3.11/dist-packages (from httpcore==1.*->httpx>=0.25->apify-client) (0.16.0)\n",
            "Requirement already satisfied: sniffio>=1.1 in /usr/local/lib/python3.11/dist-packages (from anyio->httpx>=0.25->apify-client) (1.3.1)\n",
            "Requirement already satisfied: typing_extensions>=4.5 in /usr/local/lib/python3.11/dist-packages (from anyio->httpx>=0.25->apify-client) (4.13.2)\n",
            "dataset: Kzi7tdthi56XJjc4b | status: SUCCEEDED\n",
            "CSV header ➜ ['account/accepting_messages', 'account/acct', 'account/avatar', 'account/avatar_static', 'account/bot', 'account/chats_onboarded', 'account/created_at', 'account/discoverable', 'account/display_name', 'account/feeds_onboarded', 'account/followers_count', 'account/following_count', 'account/group', 'account/header', 'account/header_static', 'account/id', 'account/last_status_at', 'account/location', 'account/locked', 'account/note', 'account/show_nonmember_group_statuses', 'account/statuses_count', 'account/tv_account', 'account/tv_onboarded', 'account/unauth_visibility', 'account/url', 'account/username', 'account/verified', 'account/website', 'bookmarked', 'card', 'card/author_name', 'card/author_url', 'card/blurhash', 'card/description', 'card/embed_url', 'card/group', 'card/height', 'card/html', 'card/id', 'card/image', 'card/links', 'card/provider_name', 'card/provider_url', 'card/title', 'card/type', 'card/url', 'card/width', 'content', 'created_at', 'downvotes_count', 'favourited', 'favourites_count', 'group', 'id', 'in_reply_to', 'in_reply_to_account_id', 'in_reply_to_id', 'language', 'media_attachments/0/blurhash', 'media_attachments/0/description', 'media_attachments/0/external_video_id', 'media_attachments/0/id', 'media_attachments/0/meta/colors/accent', 'media_attachments/0/meta/colors/background', 'media_attachments/0/meta/colors/foreground', 'media_attachments/0/meta/original/aspect', 'media_attachments/0/meta/original/bitrate', 'media_attachments/0/meta/original/duration', 'media_attachments/0/meta/original/frame_rate', 'media_attachments/0/meta/original/height', 'media_attachments/0/meta/original/size', 'media_attachments/0/meta/original/width', 'media_attachments/0/meta/small/aspect', 'media_attachments/0/meta/small/height', 'media_attachments/0/meta/small/size', 'media_attachments/0/meta/small/width', 'media_attachments/0/preview_remote_url', 'media_attachments/0/preview_url', 'media_attachments/0/processing', 'media_attachments/0/remote_url', 'media_attachments/0/text_url', 'media_attachments/0/type', 'media_attachments/0/url', 'media_attachments/1/blurhash', 'media_attachments/1/description', 'media_attachments/1/external_video_id', 'media_attachments/1/id', 'media_attachments/1/meta/original/aspect', 'media_attachments/1/meta/original/height', 'media_attachments/1/meta/original/size', 'media_attachments/1/meta/original/width', 'media_attachments/1/meta/small/aspect', 'media_attachments/1/meta/small/height', 'media_attachments/1/meta/small/size', 'media_attachments/1/meta/small/width', 'media_attachments/1/preview_remote_url', 'media_attachments/1/preview_url', 'media_attachments/1/processing', 'media_attachments/1/remote_url', 'media_attachments/1/text_url', 'media_attachments/1/type', 'media_attachments/1/url', 'media_attachments/2/blurhash', 'media_attachments/2/description', 'media_attachments/2/external_video_id', 'media_attachments/2/id', 'media_attachments/2/meta/original/aspect', 'media_attachments/2/meta/original/height', 'media_attachments/2/meta/original/size', 'media_attachments/2/meta/original/width', 'media_attachments/2/meta/small/aspect', 'media_attachments/2/meta/small/height', 'media_attachments/2/meta/small/size', 'media_attachments/2/meta/small/width', 'media_attachments/2/preview_remote_url', 'media_attachments/2/preview_url', 'media_attachments/2/processing', 'media_attachments/2/remote_url', 'media_attachments/2/text_url', 'media_attachments/2/type', 'media_attachments/2/url', 'media_attachments/3/blurhash', 'media_attachments/3/description', 'media_attachments/3/external_video_id', 'media_attachments/3/id', 'media_attachments/3/meta/original/aspect', 'media_attachments/3/meta/original/height', 'media_attachments/3/meta/original/size', 'media_attachments/3/meta/original/width', 'media_attachments/3/meta/small/aspect', 'media_attachments/3/meta/small/height', 'media_attachments/3/meta/small/size', 'media_attachments/3/meta/small/width', 'media_attachments/3/preview_remote_url', 'media_attachments/3/preview_url', 'media_attachments/3/processing', 'media_attachments/3/remote_url', 'media_attachments/3/text_url', 'media_attachments/3/type', 'media_attachments/3/url', 'mentions/0/acct', 'mentions/0/id', 'mentions/0/url', 'mentions/0/username', 'muted', 'pinned', 'poll', 'quote', 'quote/account/accepting_messages', 'quote/account/acct', 'quote/account/avatar', 'quote/account/avatar_static', 'quote/account/bot', 'quote/account/chats_onboarded', 'quote/account/created_at', 'quote/account/discoverable', 'quote/account/display_name', 'quote/account/feeds_onboarded', 'quote/account/followers_count', 'quote/account/following_count', 'quote/account/group', 'quote/account/header', 'quote/account/header_static', 'quote/account/id', 'quote/account/last_status_at', 'quote/account/location', 'quote/account/locked', 'quote/account/note', 'quote/account/show_nonmember_group_statuses', 'quote/account/statuses_count', 'quote/account/tv_account', 'quote/account/tv_onboarded', 'quote/account/unauth_visibility', 'quote/account/url', 'quote/account/username', 'quote/account/verified', 'quote/account/website', 'quote/bookmarked', 'quote/card', 'quote/card/author_name', 'quote/card/author_url', 'quote/card/blurhash', 'quote/card/description', 'quote/card/embed_url', 'quote/card/group', 'quote/card/height', 'quote/card/html', 'quote/card/id', 'quote/card/image', 'quote/card/links', 'quote/card/provider_name', 'quote/card/provider_url', 'quote/card/title', 'quote/card/type', 'quote/card/url', 'quote/card/width', 'quote/content', 'quote/created_at', 'quote/downvotes_count', 'quote/favourited', 'quote/favourites_count', 'quote/group', 'quote/id', 'quote/in_reply_to', 'quote/in_reply_to_account_id', 'quote/in_reply_to_id', 'quote/language', 'quote/media_attachments/0/blurhash', 'quote/media_attachments/0/description', 'quote/media_attachments/0/external_video_id', 'quote/media_attachments/0/id', 'quote/media_attachments/0/meta/colors/accent', 'quote/media_attachments/0/meta/colors/background', 'quote/media_attachments/0/meta/colors/foreground', 'quote/media_attachments/0/meta/original/aspect', 'quote/media_attachments/0/meta/original/bitrate', 'quote/media_attachments/0/meta/original/duration', 'quote/media_attachments/0/meta/original/frame_rate', 'quote/media_attachments/0/meta/original/height', 'quote/media_attachments/0/meta/original/size', 'quote/media_attachments/0/meta/original/width', 'quote/media_attachments/0/meta/small/aspect', 'quote/media_attachments/0/meta/small/height', 'quote/media_attachments/0/meta/small/size', 'quote/media_attachments/0/meta/small/width', 'quote/media_attachments/0/preview_remote_url', 'quote/media_attachments/0/preview_url', 'quote/media_attachments/0/processing', 'quote/media_attachments/0/remote_url', 'quote/media_attachments/0/text_url', 'quote/media_attachments/0/type', 'quote/media_attachments/0/url', 'quote/muted', 'quote/pinned', 'quote/poll', 'quote/quote', 'quote/quote_id', 'quote/reaction', 'quote/reblog', 'quote/reblogged', 'quote/reblogs_count', 'quote/replies_count', 'quote/sensitive', 'quote/spoiler_text', 'quote/sponsored', 'quote/tags/0/name', 'quote/upvotes_count', 'quote/uri', 'quote/url', 'quote/visibility', 'quote/votable', 'quote_id', 'reaction', 'reblog', 'reblog/account/accepting_messages', 'reblog/account/acct', 'reblog/account/avatar', 'reblog/account/avatar_static', 'reblog/account/bot', 'reblog/account/chats_onboarded', 'reblog/account/created_at', 'reblog/account/discoverable', 'reblog/account/display_name', 'reblog/account/feeds_onboarded', 'reblog/account/followers_count', 'reblog/account/following_count', 'reblog/account/group', 'reblog/account/header', 'reblog/account/header_static', 'reblog/account/id', 'reblog/account/last_status_at', 'reblog/account/location', 'reblog/account/locked', 'reblog/account/note', 'reblog/account/show_nonmember_group_statuses', 'reblog/account/statuses_count', 'reblog/account/tv_account', 'reblog/account/tv_onboarded', 'reblog/account/unauth_visibility', 'reblog/account/url', 'reblog/account/username', 'reblog/account/verified', 'reblog/account/website', 'reblog/bookmarked', 'reblog/card', 'reblog/card/author_name', 'reblog/card/author_url', 'reblog/card/blurhash', 'reblog/card/description', 'reblog/card/embed_url', 'reblog/card/group', 'reblog/card/height', 'reblog/card/html', 'reblog/card/id', 'reblog/card/image', 'reblog/card/links', 'reblog/card/provider_name', 'reblog/card/provider_url', 'reblog/card/title', 'reblog/card/type', 'reblog/card/url', 'reblog/card/width', 'reblog/content', 'reblog/created_at', 'reblog/downvotes_count', 'reblog/favourited', 'reblog/favourites_count', 'reblog/group', 'reblog/id', 'reblog/in_reply_to', 'reblog/in_reply_to_account_id', 'reblog/in_reply_to_id', 'reblog/language', 'reblog/media_attachments/0/blurhash', 'reblog/media_attachments/0/description', 'reblog/media_attachments/0/external_video_id', 'reblog/media_attachments/0/id', 'reblog/media_attachments/0/meta/colors/accent', 'reblog/media_attachments/0/meta/colors/background', 'reblog/media_attachments/0/meta/colors/foreground', 'reblog/media_attachments/0/meta/original/aspect', 'reblog/media_attachments/0/meta/original/bitrate', 'reblog/media_attachments/0/meta/original/duration', 'reblog/media_attachments/0/meta/original/frame_rate', 'reblog/media_attachments/0/meta/original/height', 'reblog/media_attachments/0/meta/original/size', 'reblog/media_attachments/0/meta/original/width', 'reblog/media_attachments/0/meta/small/aspect', 'reblog/media_attachments/0/meta/small/height', 'reblog/media_attachments/0/meta/small/size', 'reblog/media_attachments/0/meta/small/width', 'reblog/media_attachments/0/preview_remote_url', 'reblog/media_attachments/0/preview_url', 'reblog/media_attachments/0/processing', 'reblog/media_attachments/0/remote_url', 'reblog/media_attachments/0/text_url', 'reblog/media_attachments/0/type', 'reblog/media_attachments/0/url', 'reblog/media_attachments/1/blurhash', 'reblog/media_attachments/1/description', 'reblog/media_attachments/1/external_video_id', 'reblog/media_attachments/1/id', 'reblog/media_attachments/1/meta/original/aspect', 'reblog/media_attachments/1/meta/original/height', 'reblog/media_attachments/1/meta/original/size', 'reblog/media_attachments/1/meta/original/width', 'reblog/media_attachments/1/meta/small/aspect', 'reblog/media_attachments/1/meta/small/height', 'reblog/media_attachments/1/meta/small/size', 'reblog/media_attachments/1/meta/small/width', 'reblog/media_attachments/1/preview_remote_url', 'reblog/media_attachments/1/preview_url', 'reblog/media_attachments/1/processing', 'reblog/media_attachments/1/remote_url', 'reblog/media_attachments/1/text_url', 'reblog/media_attachments/1/type', 'reblog/media_attachments/1/url', 'reblog/media_attachments/2/blurhash', 'reblog/media_attachments/2/description', 'reblog/media_attachments/2/external_video_id', 'reblog/media_attachments/2/id', 'reblog/media_attachments/2/meta/original/aspect', 'reblog/media_attachments/2/meta/original/height', 'reblog/media_attachments/2/meta/original/size', 'reblog/media_attachments/2/meta/original/width', 'reblog/media_attachments/2/meta/small/aspect', 'reblog/media_attachments/2/meta/small/height', 'reblog/media_attachments/2/meta/small/size', 'reblog/media_attachments/2/meta/small/width', 'reblog/media_attachments/2/preview_remote_url', 'reblog/media_attachments/2/preview_url', 'reblog/media_attachments/2/processing', 'reblog/media_attachments/2/remote_url', 'reblog/media_attachments/2/text_url', 'reblog/media_attachments/2/type', 'reblog/media_attachments/2/url', 'reblog/media_attachments/3/blurhash', 'reblog/media_attachments/3/description', 'reblog/media_attachments/3/external_video_id', 'reblog/media_attachments/3/id', 'reblog/media_attachments/3/meta/original/aspect', 'reblog/media_attachments/3/meta/original/height', 'reblog/media_attachments/3/meta/original/size', 'reblog/media_attachments/3/meta/original/width', 'reblog/media_attachments/3/meta/small/aspect', 'reblog/media_attachments/3/meta/small/height', 'reblog/media_attachments/3/meta/small/size', 'reblog/media_attachments/3/meta/small/width', 'reblog/media_attachments/3/preview_remote_url', 'reblog/media_attachments/3/preview_url', 'reblog/media_attachments/3/processing', 'reblog/media_attachments/3/remote_url', 'reblog/media_attachments/3/text_url', 'reblog/media_attachments/3/type', 'reblog/media_attachments/3/url', 'reblog/mentions/0/acct', 'reblog/mentions/0/id', 'reblog/mentions/0/url', 'reblog/mentions/0/username', 'reblog/muted', 'reblog/pinned', 'reblog/poll', 'reblog/quote', 'reblog/quote/account/accepting_messages', 'reblog/quote/account/acct', 'reblog/quote/account/avatar', 'reblog/quote/account/avatar_static', 'reblog/quote/account/bot', 'reblog/quote/account/chats_onboarded', 'reblog/quote/account/created_at', 'reblog/quote/account/discoverable', 'reblog/quote/account/display_name', 'reblog/quote/account/feeds_onboarded', 'reblog/quote/account/followers_count', 'reblog/quote/account/following_count', 'reblog/quote/account/group', 'reblog/quote/account/header', 'reblog/quote/account/header_static', 'reblog/quote/account/id', 'reblog/quote/account/last_status_at', 'reblog/quote/account/location', 'reblog/quote/account/locked', 'reblog/quote/account/note', 'reblog/quote/account/show_nonmember_group_statuses', 'reblog/quote/account/statuses_count', 'reblog/quote/account/tv_account', 'reblog/quote/account/tv_onboarded', 'reblog/quote/account/unauth_visibility', 'reblog/quote/account/url', 'reblog/quote/account/username', 'reblog/quote/account/verified', 'reblog/quote/account/website', 'reblog/quote/bookmarked', 'reblog/quote/card/author_name', 'reblog/quote/card/author_url', 'reblog/quote/card/blurhash', 'reblog/quote/card/description', 'reblog/quote/card/embed_url', 'reblog/quote/card/group', 'reblog/quote/card/height', 'reblog/quote/card/html', 'reblog/quote/card/id', 'reblog/quote/card/image', 'reblog/quote/card/links', 'reblog/quote/card/provider_name', 'reblog/quote/card/provider_url', 'reblog/quote/card/title', 'reblog/quote/card/type', 'reblog/quote/card/url', 'reblog/quote/card/width', 'reblog/quote/content', 'reblog/quote/created_at', 'reblog/quote/downvotes_count', 'reblog/quote/favourited', 'reblog/quote/favourites_count', 'reblog/quote/group', 'reblog/quote/id', 'reblog/quote/in_reply_to', 'reblog/quote/in_reply_to_account_id', 'reblog/quote/in_reply_to_id', 'reblog/quote/language', 'reblog/quote/muted', 'reblog/quote/pinned', 'reblog/quote/poll', 'reblog/quote/quote', 'reblog/quote/quote_id', 'reblog/quote/reaction', 'reblog/quote/reblog', 'reblog/quote/reblogged', 'reblog/quote/reblogs_count', 'reblog/quote/replies_count', 'reblog/quote/sensitive', 'reblog/quote/spoiler_text', 'reblog/quote/sponsored', 'reblog/quote/upvotes_count', 'reblog/quote/uri', 'reblog/quote/url', 'reblog/quote/visibility', 'reblog/quote/votable', 'reblog/quote_id', 'reblog/reaction', 'reblog/reblog', 'reblog/reblogged', 'reblog/reblogs_count', 'reblog/replies_count', 'reblog/sensitive', 'reblog/spoiler_text', 'reblog/sponsored', 'reblog/upvotes_count', 'reblog/uri', 'reblog/url', 'reblog/visibility', 'reblog/votable', 'reblogged', 'reblogs_count', 'replies_count', 'sensitive', 'spoiler_text', 'sponsored', 'tags/0/name', 'upvotes_count', 'uri', 'url', 'visibility', 'votable']\n",
            "✅ rows: 1172,  span: 2025-03-08 15:31:32.514000+00:00 → 2025-05-10 15:39:46.559000+00:00\n"
          ]
        }
      ]
    },
    {
      "cell_type": "code",
      "source": [
        "\n",
        "!pip install -U --quiet yfinance\n",
        "\n",
        "import yfinance as yf\n",
        "import pandas as pd\n",
        "import datetime as dt\n",
        "\n",
        "\n",
        "START = \"2025-01-01\"\n",
        "END   = \"2025-05-11\"\n",
        "\n",
        "\n",
        "spx = yf.download(\"^GSPC\", start=START, end=END, interval=\"1d\", auto_adjust=False)\n",
        "\n",
        "\n",
        "print(\"rows:\", len(spx), \"| first:\", spx.index.min().date(), \"| last:\", spx.index.max().date())\n",
        "\n",
        "\n",
        "spx.to_csv(\"SPX_2025_Jan_May10_daily.csv\")\n"
      ],
      "metadata": {
        "colab": {
          "base_uri": "https://localhost:8080/"
        },
        "id": "GsOSXCu8C0HR",
        "outputId": "b9aefc2b-4085-4094-9b44-d727ae0b05a7"
      },
      "execution_count": 22,
      "outputs": [
        {
          "output_type": "stream",
          "name": "stdout",
          "text": [
            "\u001b[2K   \u001b[90m━━━━━━━━━━━━━━━━━━━━━━━━━━━━━━━━━━━━━━━━\u001b[0m \u001b[32m117.4/117.4 kB\u001b[0m \u001b[31m2.7 MB/s\u001b[0m eta \u001b[36m0:00:00\u001b[0m\n",
            "\u001b[2K   \u001b[90m━━━━━━━━━━━━━━━━━━━━━━━━━━━━━━━━━━━━━━━━\u001b[0m \u001b[32m7.4/7.4 MB\u001b[0m \u001b[31m59.9 MB/s\u001b[0m eta \u001b[36m0:00:00\u001b[0m\n",
            "\u001b[?25h"
          ]
        },
        {
          "output_type": "stream",
          "name": "stderr",
          "text": [
            "\r[*********************100%***********************]  1 of 1 completed"
          ]
        },
        {
          "output_type": "stream",
          "name": "stdout",
          "text": [
            "rows: 88 | first: 2025-01-02 | last: 2025-05-09\n"
          ]
        },
        {
          "output_type": "stream",
          "name": "stderr",
          "text": [
            "\n"
          ]
        }
      ]
    },
    {
      "cell_type": "code",
      "source": [
        "import pandas as pd\n",
        "\n",
        "\n",
        "df = pd.read_csv(\"trump_truths_2025.csv\", parse_dates=[\"created_at\"])\n",
        "\n",
        "\n",
        "posts_tc = df[[\"created_at\", \"content\"]].copy()\n",
        "\n",
        "\n",
        "posts_tc.to_csv(\"trump_truths_2025_time_content.csv\", index=False)\n",
        "\n",
        "print(f\"✅  wrote {len(posts_tc):,} rows → trump_truths_2025_time_content.csv\")"
      ],
      "metadata": {
        "colab": {
          "base_uri": "https://localhost:8080/"
        },
        "id": "jZan3c3JH2rg",
        "outputId": "3877273f-7418-47ea-ea43-2dba775eb9ef"
      },
      "execution_count": 23,
      "outputs": [
        {
          "output_type": "stream",
          "name": "stdout",
          "text": [
            "✅  wrote 1,172 rows → trump_truths_2025_time_content.csv\n"
          ]
        }
      ]
    },
    {
      "cell_type": "code",
      "source": [
        "import pandas as pd\n",
        "\n",
        "\n",
        "posts = pd.read_csv(\"trump_truths_2025_time_content.csv\",\n",
        "                    parse_dates=[\"created_at\"])\n",
        "\n",
        "\n",
        "posts = posts.dropna(subset=[\"content\"])\n",
        "posts = posts[posts[\"content\"].str.strip() != \"\"]\n",
        "\n",
        "\n",
        "posts[\"date\"] = posts[\"created_at\"].dt.normalize()\n",
        "\n",
        "\n",
        "daily_text = (posts.groupby(\"date\", as_index=False)\n",
        "                    .agg(combined_content=(\"content\",\n",
        "                                           lambda x: \"\\n\\n\".join(x)),\n",
        "                         post_count       =(\"content\", \"size\")))\n",
        "\n",
        "\n",
        "daily_text.to_csv(\"trump_truths_2025_daily_combined.csv\", index=False)\n",
        "print(f\"✅ wrote {len(daily_text)} rows → trump_truths_2025_daily_combined.csv\")\n"
      ],
      "metadata": {
        "colab": {
          "base_uri": "https://localhost:8080/"
        },
        "id": "YZb7ESt7KUPO",
        "outputId": "b8b65c93-97c0-42c1-be0b-eff8a0101a8a"
      },
      "execution_count": 25,
      "outputs": [
        {
          "output_type": "stream",
          "name": "stdout",
          "text": [
            "✅ wrote 64 rows → trump_truths_2025_daily_combined.csv\n"
          ]
        }
      ]
    },
    {
      "cell_type": "code",
      "source": [
        "import pandas as pd\n",
        "\n",
        "df = pd.read_csv(\n",
        "    \"SPX_2025_Jan_May10_daily.csv\",\n",
        "    header=[0, 1],\n",
        "    index_col=0,\n",
        "    parse_dates=True\n",
        ")\n",
        "\n",
        "\n",
        "df.columns = df.columns.droplevel(1)\n",
        "\n",
        "\n",
        "df_slice = df.loc[\"2025-03-08\":\"2025-05-10\"]\n",
        "\n",
        "\n",
        "df_slice.to_csv(\"SPX_20250308_20250510_daily.csv\")\n",
        "\n",
        "print(f\"✅ Kept {len(df_slice)} rows → SPX_20250308_20250510_daily.csv\")\n",
        "print(df_slice.head())\n",
        "\n"
      ],
      "metadata": {
        "colab": {
          "base_uri": "https://localhost:8080/"
        },
        "id": "LGAb6hYxOdDS",
        "outputId": "192b22e1-d88f-4262-dcbc-e5db45260106"
      },
      "execution_count": 28,
      "outputs": [
        {
          "output_type": "stream",
          "name": "stdout",
          "text": [
            "✅ Kept 44 rows → SPX_20250308_20250510_daily.csv\n",
            "Price         Adj Close        Close         High          Low         Open  \\\n",
            "Date                                                                          \n",
            "2025-03-10  5614.560059  5614.560059  5705.370117  5564.020020  5705.370117   \n",
            "2025-03-11  5572.069824  5572.069824  5636.299805  5528.410156  5603.649902   \n",
            "2025-03-12  5599.299805  5599.299805  5642.189941  5546.089844  5624.839844   \n",
            "2025-03-13  5521.520020  5521.520020  5597.779785  5504.649902  5594.450195   \n",
            "2025-03-14  5638.939941  5638.939941  5645.270020  5563.850098  5563.850098   \n",
            "\n",
            "Price           Volume  \n",
            "Date                    \n",
            "2025-03-10  6409370000  \n",
            "2025-03-11  6221240000  \n",
            "2025-03-12  5219830000  \n",
            "2025-03-13  5018980000  \n",
            "2025-03-14  4863180000  \n"
          ]
        }
      ]
    },
    {
      "cell_type": "code",
      "source": [
        "import pandas as pd\n",
        "import numpy as np\n",
        "\n",
        "\n",
        "daily = pd.read_csv(\n",
        "    \"trump_truths_2025_daily_combined.csv\",\n",
        "    parse_dates=[\"date\"]\n",
        ").drop_duplicates(subset=[\"date\"]).sort_values(\"date\")\n",
        "\n",
        "spx = pd.read_csv(\n",
        "    \"SPX_20250308_20250510_daily.csv\",\n",
        "    parse_dates=[\"Date\"]\n",
        ").rename(columns={\"Date\": \"date\"}).sort_values(\"date\")\n",
        "\n",
        "\n",
        "for df in (daily, spx):\n",
        "    if daily[\"date\"].dt.tz is not None:\n",
        "        df[\"date\"] = df[\"date\"].dt.tz_localize(None)\n",
        "\n",
        "trade_dates = spx[\"date\"].values\n",
        "pos = np.searchsorted(trade_dates, daily[\"date\"].values, side=\"left\")\n",
        "\n",
        "mapped = pd.DataFrame({\n",
        "    \"calendar_date\": daily[\"date\"].values,\n",
        "    \"trade_date\":    [trade_dates[i] if i < len(trade_dates) else pd.NaT\n",
        "                      for i in pos],\n",
        "})\n",
        "\n",
        "\n",
        "mapped = mapped.merge(\n",
        "    daily.rename(columns={\"date\": \"calendar_date\"}),\n",
        "    on=\"calendar_date\",\n",
        "    how=\"left\"\n",
        ")\n",
        "\n",
        "mapped.to_csv(\"truth_to_trade_mapping.csv\", index=False)\n",
        "print(\"✅ wrote\", len(mapped), \"rows → truth_to_trade_mapping.csv\")\n",
        "print(mapped.head())\n",
        "\n"
      ],
      "metadata": {
        "colab": {
          "base_uri": "https://localhost:8080/"
        },
        "id": "TxfvhuvQTWth",
        "outputId": "4e0281b2-8485-4160-82f0-56f8739572de"
      },
      "execution_count": 30,
      "outputs": [
        {
          "output_type": "stream",
          "name": "stdout",
          "text": [
            "✅ wrote 64 rows → truth_to_trade_mapping.csv\n",
            "  calendar_date trade_date                                   combined_content  \\\n",
            "0    2025-03-08 2025-03-10  ELON AND MARCO HAVE A GREAT RELATIONSHIP. ANY ...   \n",
            "1    2025-03-09 2025-03-10  As I made clear during my Joint Address to Con...   \n",
            "2    2025-03-10 2025-03-10  Back by popular demand, for the first time in ...   \n",
            "3    2025-03-11 2025-03-11  Big WIN for Republicans, and America, tonight....   \n",
            "4    2025-03-12 2025-03-12  Secretary of Energy Chris Wright: “President T...   \n",
            "\n",
            "   post_count  \n",
            "0           6  \n",
            "1           8  \n",
            "2         131  \n",
            "3          19  \n",
            "4          20  \n"
          ]
        }
      ]
    },
    {
      "cell_type": "code",
      "source": [
        "import pandas as pd\n",
        "\n",
        "\n",
        "mapped = pd.read_csv(\"truth_to_trade_mapping.csv\",\n",
        "                     parse_dates=[\"calendar_date\", \"trade_date\"])\n",
        "\n",
        "\n",
        "mapped = mapped.dropna(subset=[\"trade_date\"])\n",
        "\n",
        "\n",
        "daily_trade = (\n",
        "    mapped.groupby(\"trade_date\", as_index=False)\n",
        "          .agg(\n",
        "              combined_content = (\"combined_content\", \"\\n\\n\".join),\n",
        "              post_count       = (\"post_count\",       \"sum\"),\n",
        "          )\n",
        "          .sort_values(\"trade_date\")\n",
        ")\n",
        "\n",
        "\n",
        "daily_trade.to_csv(\"trump_truths_by_trading_day.csv\", index=False)\n",
        "print(f\"✅ wrote {len(daily_trade)} rows → trump_truths_by_trading_day.csv\")\n"
      ],
      "metadata": {
        "colab": {
          "base_uri": "https://localhost:8080/"
        },
        "id": "N1pvEo6tUVo6",
        "outputId": "459fa301-b657-4dee-f726-adc2bcbab8c5"
      },
      "execution_count": 31,
      "outputs": [
        {
          "output_type": "stream",
          "name": "stdout",
          "text": [
            "✅ wrote 44 rows → trump_truths_by_trading_day.csv\n"
          ]
        }
      ]
    },
    {
      "cell_type": "code",
      "source": [
        "import pandas as pd\n",
        "\n",
        "rows_truths = len(pd.read_csv(\"trump_truths_by_trading_day.csv\"))\n",
        "rows_spx    = len(pd.read_csv(\"SPX_20250308_20250510_daily.csv\"))\n",
        "\n",
        "print(\"Trump posts file rows :\", rows_truths)\n",
        "print(\"SPX slice file rows   :\", rows_spx)\n"
      ],
      "metadata": {
        "colab": {
          "base_uri": "https://localhost:8080/"
        },
        "id": "DOs1l_zJVLwD",
        "outputId": "29eea071-0be2-4719-d9cd-f1fe821bf201"
      },
      "execution_count": 32,
      "outputs": [
        {
          "output_type": "stream",
          "name": "stdout",
          "text": [
            "Trump posts file rows : 44\n",
            "SPX slice file rows   : 44\n"
          ]
        }
      ]
    },
    {
      "cell_type": "code",
      "source": [
        "import pandas as pd\n",
        "\n",
        "posts = pd.read_csv(\"trump_truths_by_trading_day.csv\",\n",
        "                    parse_dates=[\"trade_date\"])\n",
        "\n",
        "spx   = pd.read_csv(\"SPX_20250308_20250510_daily.csv\",\n",
        "                    parse_dates=[\"Date\"])\\\n",
        "          .rename(columns={\"Date\": \"trade_date\"})\n",
        "\n",
        "\n",
        "df = spx.merge(posts, on=\"trade_date\", how=\"inner\")\\\n",
        "        .sort_values(\"trade_date\")\n",
        "\n",
        "cutoff = pd.Timestamp(\"2025-05-01\")\n",
        "\n",
        "train_df = df[df[\"trade_date\"] <  cutoff]\n",
        "test_df  = df[df[\"trade_date\"] >= cutoff]\n",
        "\n",
        "\n",
        "train_df.to_csv(\"train_20250308_20250430.csv\", index=False)\n",
        "test_df.to_csv( \"test_20250501_20250510.csv\",  index=False)\n",
        "\n",
        "print(\"── Row count check ──\")\n",
        "print(f\"  Merged dataset : {len(df):3d} rows\")\n",
        "print(f\"  Train subset   : {len(train_df):3d} rows \"\n",
        "      f\"({train_df.trade_date.min().date()} → {train_df.trade_date.max().date()})\")\n",
        "print(f\"  Test subset    : {len(test_df):3d} rows \"\n",
        "      f\"({test_df.trade_date.min().date()}  → {test_df.trade_date.max().date()})\")\n",
        "\n"
      ],
      "metadata": {
        "colab": {
          "base_uri": "https://localhost:8080/"
        },
        "id": "iLdgNtlJ01Fo",
        "outputId": "b76be730-3589-4509-f0a6-be6ad7541d58"
      },
      "execution_count": 34,
      "outputs": [
        {
          "output_type": "stream",
          "name": "stdout",
          "text": [
            "── Row count check ──\n",
            "  Merged dataset :  44 rows\n",
            "  Train subset   :  37 rows (2025-03-10 → 2025-04-30)\n",
            "  Test subset    :   7 rows (2025-05-01  → 2025-05-09)\n"
          ]
        }
      ]
    },
    {
      "cell_type": "markdown",
      "source": [
        "# **3. Training**"
      ],
      "metadata": {
        "id": "Qk1rvh2Wc5bA"
      }
    },
    {
      "cell_type": "code",
      "source": [
        "\n",
        "import pandas as pd, numpy as np, random, pickle\n",
        "import gymnasium as gym\n",
        "import matplotlib.pyplot as plt\n",
        "plt.style.use(\"ggplot\")\n",
        "\n",
        "RET_BINS  = [-0.02, 0, 0.005, 0.01]\n",
        "POST_BINS = [0.5, 4.5]\n",
        "\n",
        "\n",
        "posts = pd.read_csv(\"trump_truths_by_trading_day.csv\",\n",
        "                    parse_dates=[\"trade_date\"])\n",
        "spx   = pd.read_csv(\"SPX_20250308_20250510_daily.csv\",\n",
        "                    parse_dates=[\"Date\"]).rename(columns={\"Date\":\"trade_date\"})\n",
        "\n",
        "df = spx.merge(posts, on=\"trade_date\", how=\"inner\").sort_values(\"trade_date\")\n",
        "\n",
        "train_df = df[df.trade_date <  \"2025-05-01\"].reset_index(drop=True)\n",
        "test_df  = df[df.trade_date >= \"2025-05-01\"].reset_index(drop=True)\n",
        "\n",
        "print(\"── Row counts ──\")\n",
        "print(\"train :\", len(train_df), \"|\", train_df.trade_date.min().date(), \"→\", train_df.trade_date.max().date())\n",
        "print(\"test  :\", len(test_df ), \"|\", test_df.trade_date.min().date(),  \"→\", test_df.trade_date.max().date())\n",
        "\n",
        "\n",
        "class SPXDailyEnv(gym.Env):\n",
        "    def __init__(self, df, ret_bins, post_bins):\n",
        "        self.df = df.reset_index(drop=True)\n",
        "        self.ret_bins, self.post_bins = ret_bins, post_bins\n",
        "        self.n_actions = 3\n",
        "        self.action_space      = gym.spaces.Discrete(3)\n",
        "        self.observation_space = gym.spaces.MultiDiscrete(\n",
        "            [len(ret_bins)+1, len(post_bins)+1, 5])\n",
        "        self._i = 0\n",
        "\n",
        "    def _state(self, i):\n",
        "        row = self.df.iloc[i]\n",
        "        intraday_ret = (row.Close - row.Open) / row.Open\n",
        "        s_ret  = np.digitize(intraday_ret, self.ret_bins)\n",
        "        s_post = np.digitize(row.post_count, self.post_bins)\n",
        "        return (s_ret, s_post, row.trade_date.weekday())\n",
        "\n",
        "    def reset(self, seed=None, options=None):\n",
        "        super().reset(seed=seed); self._i = 0\n",
        "        return self._state(0), {}\n",
        "\n",
        "    def step(self, action):\n",
        "        i = self._i; row = self.df.iloc[i]\n",
        "        intraday_ret = (row.Close - row.Open) / row.Open\n",
        "        reward = {0:0.0, 1: intraday_ret, 2:-intraday_ret}[action]\n",
        "        done = (i >= len(self.df)-1)\n",
        "        if not done: self._i += 1\n",
        "        return self._state(self._i), reward, done, False, {}\n",
        "\n",
        "\n",
        "def dyna_q_train(env, episodes=200, alpha=0.1, gamma=0.99,\n",
        "                 eps_start=1.0, eps_end=0.05, eps_decay=0.95,\n",
        "                 planning_steps=20):\n",
        "    Q, model, eps = {}, {}, eps_start\n",
        "    for _ in range(episodes):\n",
        "        s,_ = env.reset(); done=False\n",
        "        while not done:\n",
        "            a = random.randrange(env.n_actions) if random.random()<eps else np.argmax(Q.get(s, np.zeros(env.n_actions)))\n",
        "            s2,r,done,_,_ = env.step(a)\n",
        "            Q.setdefault(s ,np.zeros(env.n_actions))\n",
        "            Q.setdefault(s2,np.zeros(env.n_actions))\n",
        "            Q[s][a] += alpha*(r + gamma*np.max(Q[s2]) - Q[s][a])\n",
        "            model[(s,a)] = (r,s2); s = s2\n",
        "            for _ in range(planning_steps):\n",
        "                (ss,aa),(rr,ss2) = random.choice(list(model.items()))\n",
        "                Q.setdefault(ss ,np.zeros(env.n_actions))\n",
        "                Q.setdefault(ss2,np.zeros(env.n_actions))\n",
        "                Q[ss][aa] += alpha*(rr + gamma*np.max(Q[ss2]) - Q[ss][aa])\n",
        "        eps = max(eps_end, eps*eps_decay)\n",
        "    return Q\n",
        "\n",
        "env_train = SPXDailyEnv(train_df, RET_BINS, POST_BINS)\n",
        "Q = dyna_q_train(env_train); pickle.dump(Q, open(\"Q_dyna_spx.pkl\",\"wb\"))\n",
        "print(\"✓ trained Dyna-Q and saved → Q_dyna_spx.pkl\")\n",
        "\n",
        "env_test = SPXDailyEnv(test_df, RET_BINS, POST_BINS)\n",
        "state,_ = env_test.reset()\n",
        "agent_equity, rewards, actions = 1.0, [], []\n",
        "dates = [test_df.trade_date.iloc[0]]\n",
        "\n",
        "while True:\n",
        "    a = np.argmax(Q.get(state, np.zeros(env_test.n_actions)))\n",
        "    ns,r,done,_,_ = env_test.step(a)\n",
        "    agent_equity *= (1+r); rewards.append(r); actions.append(a)\n",
        "    dates.append(env_test.df.trade_date.iloc[env_test._i])\n",
        "    if done: break\n",
        "    state = ns\n",
        "\n",
        "# baseline: always long intraday\n",
        "baseline_r = (test_df.Close - test_df.Open) / test_df.Open\n",
        "baseline_equity = np.cumprod(1 + baseline_r)\n",
        "\n",
        "# ── metrics\n",
        "print(\"\\n── Test metrics (May) ──\")\n",
        "print(f\"Agent cum return    : {(agent_equity-1)*100: .2f}%\")\n",
        "print(f\"Baseline cum return : {(baseline_equity.iloc[-1]-1)*100: .2f}%\")\n",
        "\n",
        "# Save log\n",
        "pd.DataFrame({\"date\":dates[:-1],\"action\":actions,\"reward\":rewards,\"agent_equity\":np.cumprod(1+np.array(rewards))})\\\n",
        "  .to_csv(\"dyna_q_test_log.csv\", index=False)\n",
        "\n",
        "# ── plot both curves\n",
        "plt.figure(figsize=(8,4))\n",
        "plt.plot(dates[:-1], np.cumprod(1+np.array(rewards)), marker='o', label='Dyna-Q Agent')\n",
        "plt.plot(test_df.trade_date, baseline_equity, marker='o', label='Always-Long baseline')\n",
        "plt.title(\"Equity curves on test window (2025-05-01 – 05-10)\")\n",
        "plt.ylabel(\"Normalised equity\")\n",
        "plt.xticks(rotation=45); plt.grid(True); plt.legend(); plt.tight_layout(); plt.show()\n",
        "\n"
      ],
      "metadata": {
        "colab": {
          "base_uri": "https://localhost:8080/",
          "height": 549
        },
        "id": "Wi2Lsk2uaD7K",
        "outputId": "0d17bd59-82c3-4bbe-e2a1-69d1a3e71498"
      },
      "execution_count": 40,
      "outputs": [
        {
          "output_type": "stream",
          "name": "stdout",
          "text": [
            "── Row counts ──\n",
            "train : 37 | 2025-03-10 → 2025-04-30\n",
            "test  : 7 | 2025-05-01 → 2025-05-09\n",
            "✓ trained Dyna-Q and saved → Q_dyna_spx.pkl\n",
            "\n",
            "── Test metrics (May) ──\n",
            "Agent cum return    :  1.37%\n",
            "Baseline cum return :  0.24%\n"
          ]
        },
        {
          "output_type": "display_data",
          "data": {
            "text/plain": [
              "<Figure size 800x400 with 1 Axes>"
            ],
            "image/png": "[encoded data removed]"
          },
          "metadata": {}
        }
      ]
    }
  ]
}